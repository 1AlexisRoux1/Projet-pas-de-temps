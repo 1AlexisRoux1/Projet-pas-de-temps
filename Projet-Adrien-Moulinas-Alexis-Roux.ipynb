{
 "cells": [
  {
   "cell_type": "markdown",
   "metadata": {},
   "source": [
    "# Projet numérique : choix du pas de temps"
   ]
  },
  {
   "cell_type": "code",
   "execution_count": null,
   "metadata": {},
   "outputs": [],
   "source": [
    "import numpy as np\n",
    "import matplotlib.pyplot as plt\n",
    "from math import *\n",
    "\n",
    "def solve_euler_explicit(f,x0,dt,t0=0,tf=1):\n",
    "    \"\"\"\n",
    "    Cette fonction résout une équation différentielle à l'aide de la méthode d'Euler et renvoie les tableaux des t et des x au cours de la résolution \n",
    "    \"\"\"\n",
    "    s=floor(tf/dt)\n",
    "    t = [k*dt for k in range(s+1)]\n",
    "    x = np.zeros((s+1))\n",
    "    x[0]=x0\n",
    "    for k in range(0,s):\n",
    "        x[k+1]=x[k]+dt*f(t[k],x[k])\n",
    "    return t,x\n",
    "\n",
    "def i(t,x):\n",
    "    return -x\n",
    "\n",
    "def h(t,x):\n",
    "    return 3*x*(1-x/100)\n",
    "\n",
    "def g(t,x):\n",
    "    return np.array([x[1],-x[0]-x[1]])\n",
    "\n",
    "def solve_rk_2(f,x0,dt,t0=0,tf=1):\n",
    "    \"\"\"\n",
    "    Cette fonction résout une équation différentielle à l'aide de la méthode de Runge-Kata-2 et renvoie les tableaux des t et des x au cours de la résolution\n",
    "    \"\"\"\n",
    "    s=floor(tf/dt)\n",
    "    t = [k*dt for k in range(s+1)]\n",
    "    x = np.zeros((s+1))\n",
    "    x[0]=x0\n",
    "    for k in range(0,s):\n",
    "        x[k+1]=x[k]+dt*f(t[k]+dt/2,x[k]+dt/2*f(t[k],x[k]))\n",
    "    return t,x\n",
    "    \n",
    "def affiche(courbe):\n",
    "    for t,x in courbe:\n",
    "        plt.plot(t,x)\n",
    "    plt.show()\n",
    "    \n",
    "\n",
    "\n",
    "te,xe=(solve_euler_explicit(i,1,0.01))\n",
    "tr,xr=(solve_rk_2(i,1,0.01))\n",
    "\n",
    "ts=te\n",
    "xs=[]\n",
    "for a in ts:\n",
    "    xs.append(exp(-a))\n",
    "plt.plot(ts,xs,label='vraie solution',color='green')\n",
    "plt.plot(te,xe,label='solution déterminée avec le schéma dEuler',color='blue')\n",
    "plt.plot(tr,xr,label='solution déterminée par RK2',color='red')\n",
    "plt.legend()\n",
    "plt.show()\n"
   ]
  }
 ],
 "metadata": {
  "kernelspec": {
   "display_name": "Python 3",
   "language": "python",
   "name": "python3"
  },
  "language_info": {
   "codemirror_mode": {
    "name": "ipython",
    "version": 3
   },
   "file_extension": ".py",
   "mimetype": "text/x-python",
   "name": "python",
   "nbconvert_exporter": "python",
   "pygments_lexer": "ipython3",
   "version": "3.7.3"
  }
 },
 "nbformat": 4,
 "nbformat_minor": 2
}
